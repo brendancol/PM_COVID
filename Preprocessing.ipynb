{
 "cells": [
  {
   "cell_type": "code",
   "execution_count": 17,
   "metadata": {},
   "outputs": [],
   "source": [
    "from dplython import select, DplyFrame, X, arrange, count, sift, head, summarize, group_by, tail, mutate\n",
    "import numpy as np\n",
    "import pandas as pd\n",
    "import string\n",
    "import rcurl"
   ]
  },
  {
   "cell_type": "code",
   "execution_count": 18,
   "metadata": {},
   "outputs": [
    {
     "name": "stdout",
     "output_type": "stream",
     "text": [
      "<class 'pandas.core.frame.DataFrame'>\n",
      "RangeIndex: 3439 entries, 0 to 3438\n",
      "Data columns (total 12 columns):\n",
      " #   Column          Non-Null Count  Dtype  \n",
      "---  ------          --------------  -----  \n",
      " 0   FIPS            3148 non-null   float64\n",
      " 1   Admin2          3178 non-null   object \n",
      " 2   Province_State  3265 non-null   object \n",
      " 3   Country_Region  3439 non-null   object \n",
      " 4   Last_Update     3439 non-null   object \n",
      " 5   Lat             3439 non-null   float64\n",
      " 6   Long_           3439 non-null   float64\n",
      " 7   Confirmed       3439 non-null   int64  \n",
      " 8   Deaths          3439 non-null   int64  \n",
      " 9   Recovered       3439 non-null   int64  \n",
      " 10  Active          3439 non-null   int64  \n",
      " 11  Combined_Key    3439 non-null   object \n",
      "dtypes: float64(3), int64(4), object(5)\n",
      "memory usage: 322.5+ KB\n"
     ]
    }
   ],
   "source": [
    "date_of_study = \"04-04-2020\"\n",
    "# Historical data\n",
    "covid_hist = pd.read_csv(\"https://raw.githubusercontent.com/CSSEGISandData/COVID-19/master/csse_covid_19_data/csse_covid_19_daily_reports/03-30-2020.csv\")\n",
    "\n",
    "covid_hist.info()"
   ]
  },
  {
   "cell_type": "code",
   "execution_count": 19,
   "metadata": {},
   "outputs": [
    {
     "data": {
      "text/html": [
       "<div>\n",
       "<style scoped>\n",
       "    .dataframe tbody tr th:only-of-type {\n",
       "        vertical-align: middle;\n",
       "    }\n",
       "\n",
       "    .dataframe tbody tr th {\n",
       "        vertical-align: top;\n",
       "    }\n",
       "\n",
       "    .dataframe thead th {\n",
       "        text-align: right;\n",
       "    }\n",
       "</style>\n",
       "<table border=\"1\" class=\"dataframe\">\n",
       "  <thead>\n",
       "    <tr style=\"text-align: right;\">\n",
       "      <th></th>\n",
       "      <th>FIPS</th>\n",
       "      <th>Admin2</th>\n",
       "      <th>Province_State</th>\n",
       "      <th>Country_Region</th>\n",
       "      <th>Last_Update</th>\n",
       "      <th>Lat</th>\n",
       "      <th>Long_</th>\n",
       "      <th>Confirmed</th>\n",
       "      <th>Deaths</th>\n",
       "      <th>Recovered</th>\n",
       "      <th>Active</th>\n",
       "      <th>Combined_Key</th>\n",
       "    </tr>\n",
       "  </thead>\n",
       "  <tbody>\n",
       "    <tr>\n",
       "      <th>0</th>\n",
       "      <td>45001.0</td>\n",
       "      <td>Abbeville</td>\n",
       "      <td>South Carolina</td>\n",
       "      <td>US</td>\n",
       "      <td>3/30/20 22:52</td>\n",
       "      <td>34.223334</td>\n",
       "      <td>-82.461707</td>\n",
       "      <td>3</td>\n",
       "      <td>0</td>\n",
       "      <td>0</td>\n",
       "      <td>0</td>\n",
       "      <td>Abbeville, South Carolina, US</td>\n",
       "    </tr>\n",
       "    <tr>\n",
       "      <th>1</th>\n",
       "      <td>22001.0</td>\n",
       "      <td>Acadia</td>\n",
       "      <td>Louisiana</td>\n",
       "      <td>US</td>\n",
       "      <td>3/30/20 22:52</td>\n",
       "      <td>30.295065</td>\n",
       "      <td>-92.414197</td>\n",
       "      <td>11</td>\n",
       "      <td>1</td>\n",
       "      <td>0</td>\n",
       "      <td>0</td>\n",
       "      <td>Acadia, Louisiana, US</td>\n",
       "    </tr>\n",
       "    <tr>\n",
       "      <th>2</th>\n",
       "      <td>51001.0</td>\n",
       "      <td>Accomack</td>\n",
       "      <td>Virginia</td>\n",
       "      <td>US</td>\n",
       "      <td>3/30/20 22:52</td>\n",
       "      <td>37.767072</td>\n",
       "      <td>-75.632346</td>\n",
       "      <td>6</td>\n",
       "      <td>0</td>\n",
       "      <td>0</td>\n",
       "      <td>0</td>\n",
       "      <td>Accomack, Virginia, US</td>\n",
       "    </tr>\n",
       "    <tr>\n",
       "      <th>3</th>\n",
       "      <td>16001.0</td>\n",
       "      <td>Ada</td>\n",
       "      <td>Idaho</td>\n",
       "      <td>US</td>\n",
       "      <td>3/30/20 22:52</td>\n",
       "      <td>43.452658</td>\n",
       "      <td>-116.241552</td>\n",
       "      <td>113</td>\n",
       "      <td>2</td>\n",
       "      <td>0</td>\n",
       "      <td>0</td>\n",
       "      <td>Ada, Idaho, US</td>\n",
       "    </tr>\n",
       "    <tr>\n",
       "      <th>4</th>\n",
       "      <td>19001.0</td>\n",
       "      <td>Adair</td>\n",
       "      <td>Iowa</td>\n",
       "      <td>US</td>\n",
       "      <td>3/30/20 22:52</td>\n",
       "      <td>41.330756</td>\n",
       "      <td>-94.471059</td>\n",
       "      <td>1</td>\n",
       "      <td>0</td>\n",
       "      <td>0</td>\n",
       "      <td>0</td>\n",
       "      <td>Adair, Iowa, US</td>\n",
       "    </tr>\n",
       "  </tbody>\n",
       "</table>\n",
       "</div>"
      ],
      "text/plain": [
       "      FIPS     Admin2  Province_State Country_Region    Last_Update  \\\n",
       "0  45001.0  Abbeville  South Carolina             US  3/30/20 22:52   \n",
       "1  22001.0     Acadia       Louisiana             US  3/30/20 22:52   \n",
       "2  51001.0   Accomack        Virginia             US  3/30/20 22:52   \n",
       "3  16001.0        Ada           Idaho             US  3/30/20 22:52   \n",
       "4  19001.0      Adair            Iowa             US  3/30/20 22:52   \n",
       "\n",
       "         Lat       Long_  Confirmed  Deaths  Recovered  Active  \\\n",
       "0  34.223334  -82.461707          3       0          0       0   \n",
       "1  30.295065  -92.414197         11       1          0       0   \n",
       "2  37.767072  -75.632346          6       0          0       0   \n",
       "3  43.452658 -116.241552        113       2          0       0   \n",
       "4  41.330756  -94.471059          1       0          0       0   \n",
       "\n",
       "                    Combined_Key  \n",
       "0  Abbeville, South Carolina, US  \n",
       "1          Acadia, Louisiana, US  \n",
       "2         Accomack, Virginia, US  \n",
       "3                 Ada, Idaho, US  \n",
       "4                Adair, Iowa, US  "
      ]
     },
     "execution_count": 19,
     "metadata": {},
     "output_type": "execute_result"
    }
   ],
   "source": [
    "covid_us_hist = covid_hist[(covid_hist['Country_Region'] == \"US\") & (covid_hist['FIPS'].isnull() == False)]\n",
    "covid_us_hist.head()"
   ]
  },
  {
   "cell_type": "code",
   "execution_count": 20,
   "metadata": {
    "scrolled": true
   },
   "outputs": [],
   "source": [
    "# Import outcome data from JHU CSSE\n",
    "covid = pd.read_csv(\"https://raw.githubusercontent.com/CSSEGISandData/COVID-19/master/csse_covid_19_data/csse_covid_19_daily_reports/{}.csv\".format(date_of_study))\n",
    "\n",
    "#covid = read.csv(text=getURL(paste0(\"https://raw.githubusercontent.com/CSSEGISandData/COVID-19/master/csse_covid_19_data/csse_covid_19_daily_reports/\",date_of_study,\".csv\")))\n",
    "\n",
    "covid_us = covid[(covid['Country_Region'] == \"US\") & (covid['FIPS'].isnull() == True)]\n",
    "covid_us1 = covid_us_hist[(covid_us_hist['FIPS'].isin(covid_us)) & (covid_us_hist['Confirmed'] == 0) & (covid_us_hist['Deaths'] == 0) & (covid_us_hist['FIPS'].isnull() == False)]\n",
    "\n",
    "covid_us = covid_us.append(covid_us1)"
   ]
  },
  {
   "cell_type": "code",
   "execution_count": 21,
   "metadata": {},
   "outputs": [],
   "source": [
    "# Import exposure PM2.5 data\n",
    "county_pm = pd.read_csv(\"https://raw.githubusercontent.com/wxwx1993/PM_COVID/master/Data/county_pm25.csv\")\n",
    "county_temp = pd.read_csv(\"https://raw.githubusercontent.com/wxwx1993/PM_COVID/master/Data/temp_seasonal_county.csv\")"
   ]
  },
  {
   "cell_type": "code",
   "execution_count": 22,
   "metadata": {},
   "outputs": [
    {
     "name": "stdout",
     "output_type": "stream",
     "text": [
      "<class 'pandas.core.frame.DataFrame'>\n",
      "RangeIndex: 2340 entries, 0 to 2339\n",
      "Data columns (total 25 columns):\n",
      " #   Column                    Non-Null Count  Dtype  \n",
      "---  ------                    --------------  -----  \n",
      " 0   date                      2340 non-null   int64  \n",
      " 1   state                     2340 non-null   object \n",
      " 2   positive                  2325 non-null   float64\n",
      " 3   negative                  2184 non-null   float64\n",
      " 4   pending                   552 non-null    float64\n",
      " 5   hospitalizedCurrently     495 non-null    float64\n",
      " 6   hospitalizedCumulative    713 non-null    float64\n",
      " 7   inIcuCurrently            230 non-null    float64\n",
      " 8   inIcuCumulative           118 non-null    float64\n",
      " 9   onVentilatorCurrently     194 non-null    float64\n",
      " 10  onVentilatorCumulative    36 non-null     float64\n",
      " 11  recovered                 460 non-null    float64\n",
      " 12  hash                      2340 non-null   object \n",
      " 13  dateChecked               2340 non-null   object \n",
      " 14  death                     1627 non-null   float64\n",
      " 15  hospitalized              713 non-null    float64\n",
      " 16  total                     2338 non-null   float64\n",
      " 17  totalTestResults          2338 non-null   float64\n",
      " 18  posNeg                    2338 non-null   float64\n",
      " 19  fips                      2340 non-null   int64  \n",
      " 20  deathIncrease             2284 non-null   float64\n",
      " 21  hospitalizedIncrease      2284 non-null   float64\n",
      " 22  negativeIncrease          2284 non-null   float64\n",
      " 23  positiveIncrease          2284 non-null   float64\n",
      " 24  totalTestResultsIncrease  2284 non-null   float64\n",
      "dtypes: float64(20), int64(2), object(3)\n",
      "memory usage: 457.2+ KB\n"
     ]
    }
   ],
   "source": [
    "# Import census, brfss, testing, mortality, hosptial beds data as potential confounders\n",
    "county_census = pd.read_csv(\"https://raw.githubusercontent.com/wxwx1993/PM_COVID/master/Data/census_county_interpolated.csv\")\n",
    "county_brfss = pd.read_csv(\"https://raw.githubusercontent.com/wxwx1993/PM_COVID/master/Data/brfss_county_interpolated.csv\")\n",
    "state_test = pd.read_csv(\"https://covidtracking.com/api/states/daily.csv\")\n",
    "state_test.info()"
   ]
  },
  {
   "cell_type": "code",
   "execution_count": 90,
   "metadata": {},
   "outputs": [
    {
     "name": "stderr",
     "output_type": "stream",
     "text": [
      "/home/angelo/anaconda3/envs/flatiron/lib/python3.7/site-packages/pandas/core/ops/array_ops.py:253: FutureWarning: elementwise comparison failed; returning scalar instead, but in the future will perform elementwise comparison\n",
      "  res_values = method(rvalues)\n"
     ]
    },
    {
     "ename": "KeyError",
     "evalue": "\"['fips'] not found in axis\"",
     "output_type": "error",
     "traceback": [
      "\u001b[0;31m---------------------------------------------------------------------------\u001b[0m",
      "\u001b[0;31mKeyError\u001b[0m                                  Traceback (most recent call last)",
      "\u001b[0;32m<ipython-input-90-a2ddadfb7dc0>\u001b[0m in \u001b[0;36m<module>\u001b[0;34m\u001b[0m\n\u001b[1;32m      2\u001b[0m \u001b[0myear\u001b[0m \u001b[0;34m=\u001b[0m \u001b[0mdate_clean\u001b[0m\u001b[0;34m[\u001b[0m\u001b[0;36m4\u001b[0m\u001b[0;34m:\u001b[0m\u001b[0;36m8\u001b[0m\u001b[0;34m]\u001b[0m\u001b[0;34m\u001b[0m\u001b[0;34m\u001b[0m\u001b[0m\n\u001b[1;32m      3\u001b[0m \u001b[0mmonth_day\u001b[0m \u001b[0;34m=\u001b[0m \u001b[0mdate_clean\u001b[0m\u001b[0;34m[\u001b[0m\u001b[0;36m0\u001b[0m\u001b[0;34m:\u001b[0m\u001b[0;36m4\u001b[0m\u001b[0;34m]\u001b[0m\u001b[0;34m\u001b[0m\u001b[0;34m\u001b[0m\u001b[0m\n\u001b[0;32m----> 4\u001b[0;31m \u001b[0mstate_test\u001b[0m \u001b[0;34m=\u001b[0m \u001b[0mstate_test\u001b[0m\u001b[0;34m[\u001b[0m\u001b[0mstate_test\u001b[0m\u001b[0;34m[\u001b[0m\u001b[0;34m'date'\u001b[0m\u001b[0;34m]\u001b[0m \u001b[0;34m==\u001b[0m \u001b[0;34m\"{}{}\"\u001b[0m\u001b[0;34m.\u001b[0m\u001b[0mformat\u001b[0m\u001b[0;34m(\u001b[0m\u001b[0;34m'2020'\u001b[0m\u001b[0;34m,\u001b[0m\u001b[0;34m'0404'\u001b[0m\u001b[0;34m)\u001b[0m\u001b[0;34m]\u001b[0m\u001b[0;34m.\u001b[0m\u001b[0mdrop\u001b[0m\u001b[0;34m(\u001b[0m\u001b[0mcolumns\u001b[0m\u001b[0;34m=\u001b[0m\u001b[0;34m'fips'\u001b[0m\u001b[0;34m)\u001b[0m\u001b[0;34m\u001b[0m\u001b[0;34m\u001b[0m\u001b[0m\n\u001b[0m\u001b[1;32m      5\u001b[0m \u001b[0;31m#state_test = subset(state_test, date ==paste0(substring(str_remove_all(date_of_study, \"-\"),5,8),substring(str_remove_all(date_of_study, \"-\"),1,4)))[,-20]\u001b[0m\u001b[0;34m\u001b[0m\u001b[0;34m\u001b[0m\u001b[0;34m\u001b[0m\u001b[0m\n\u001b[1;32m      6\u001b[0m \u001b[0mstatecode\u001b[0m \u001b[0;34m=\u001b[0m \u001b[0mpd\u001b[0m\u001b[0;34m.\u001b[0m\u001b[0mread_csv\u001b[0m\u001b[0;34m(\u001b[0m\u001b[0;34m\"https://raw.githubusercontent.com/wxwx1993/PM_COVID/master/Data/statecode.csv\"\u001b[0m\u001b[0;34m)\u001b[0m\u001b[0;34m\u001b[0m\u001b[0;34m\u001b[0m\u001b[0m\n",
      "\u001b[0;32m~/anaconda3/envs/flatiron/lib/python3.7/site-packages/pandas/core/frame.py\u001b[0m in \u001b[0;36mdrop\u001b[0;34m(self, labels, axis, index, columns, level, inplace, errors)\u001b[0m\n\u001b[1;32m   3995\u001b[0m             \u001b[0mlevel\u001b[0m\u001b[0;34m=\u001b[0m\u001b[0mlevel\u001b[0m\u001b[0;34m,\u001b[0m\u001b[0;34m\u001b[0m\u001b[0;34m\u001b[0m\u001b[0m\n\u001b[1;32m   3996\u001b[0m             \u001b[0minplace\u001b[0m\u001b[0;34m=\u001b[0m\u001b[0minplace\u001b[0m\u001b[0;34m,\u001b[0m\u001b[0;34m\u001b[0m\u001b[0;34m\u001b[0m\u001b[0m\n\u001b[0;32m-> 3997\u001b[0;31m             \u001b[0merrors\u001b[0m\u001b[0;34m=\u001b[0m\u001b[0merrors\u001b[0m\u001b[0;34m,\u001b[0m\u001b[0;34m\u001b[0m\u001b[0;34m\u001b[0m\u001b[0m\n\u001b[0m\u001b[1;32m   3998\u001b[0m         )\n\u001b[1;32m   3999\u001b[0m \u001b[0;34m\u001b[0m\u001b[0m\n",
      "\u001b[0;32m~/anaconda3/envs/flatiron/lib/python3.7/site-packages/pandas/core/generic.py\u001b[0m in \u001b[0;36mdrop\u001b[0;34m(self, labels, axis, index, columns, level, inplace, errors)\u001b[0m\n\u001b[1;32m   3934\u001b[0m         \u001b[0;32mfor\u001b[0m \u001b[0maxis\u001b[0m\u001b[0;34m,\u001b[0m \u001b[0mlabels\u001b[0m \u001b[0;32min\u001b[0m \u001b[0maxes\u001b[0m\u001b[0;34m.\u001b[0m\u001b[0mitems\u001b[0m\u001b[0;34m(\u001b[0m\u001b[0;34m)\u001b[0m\u001b[0;34m:\u001b[0m\u001b[0;34m\u001b[0m\u001b[0;34m\u001b[0m\u001b[0m\n\u001b[1;32m   3935\u001b[0m             \u001b[0;32mif\u001b[0m \u001b[0mlabels\u001b[0m \u001b[0;32mis\u001b[0m \u001b[0;32mnot\u001b[0m \u001b[0;32mNone\u001b[0m\u001b[0;34m:\u001b[0m\u001b[0;34m\u001b[0m\u001b[0;34m\u001b[0m\u001b[0m\n\u001b[0;32m-> 3936\u001b[0;31m                 \u001b[0mobj\u001b[0m \u001b[0;34m=\u001b[0m \u001b[0mobj\u001b[0m\u001b[0;34m.\u001b[0m\u001b[0m_drop_axis\u001b[0m\u001b[0;34m(\u001b[0m\u001b[0mlabels\u001b[0m\u001b[0;34m,\u001b[0m \u001b[0maxis\u001b[0m\u001b[0;34m,\u001b[0m \u001b[0mlevel\u001b[0m\u001b[0;34m=\u001b[0m\u001b[0mlevel\u001b[0m\u001b[0;34m,\u001b[0m \u001b[0merrors\u001b[0m\u001b[0;34m=\u001b[0m\u001b[0merrors\u001b[0m\u001b[0;34m)\u001b[0m\u001b[0;34m\u001b[0m\u001b[0;34m\u001b[0m\u001b[0m\n\u001b[0m\u001b[1;32m   3937\u001b[0m \u001b[0;34m\u001b[0m\u001b[0m\n\u001b[1;32m   3938\u001b[0m         \u001b[0;32mif\u001b[0m \u001b[0minplace\u001b[0m\u001b[0;34m:\u001b[0m\u001b[0;34m\u001b[0m\u001b[0;34m\u001b[0m\u001b[0m\n",
      "\u001b[0;32m~/anaconda3/envs/flatiron/lib/python3.7/site-packages/pandas/core/generic.py\u001b[0m in \u001b[0;36m_drop_axis\u001b[0;34m(self, labels, axis, level, errors)\u001b[0m\n\u001b[1;32m   3968\u001b[0m                 \u001b[0mnew_axis\u001b[0m \u001b[0;34m=\u001b[0m \u001b[0maxis\u001b[0m\u001b[0;34m.\u001b[0m\u001b[0mdrop\u001b[0m\u001b[0;34m(\u001b[0m\u001b[0mlabels\u001b[0m\u001b[0;34m,\u001b[0m \u001b[0mlevel\u001b[0m\u001b[0;34m=\u001b[0m\u001b[0mlevel\u001b[0m\u001b[0;34m,\u001b[0m \u001b[0merrors\u001b[0m\u001b[0;34m=\u001b[0m\u001b[0merrors\u001b[0m\u001b[0;34m)\u001b[0m\u001b[0;34m\u001b[0m\u001b[0;34m\u001b[0m\u001b[0m\n\u001b[1;32m   3969\u001b[0m             \u001b[0;32melse\u001b[0m\u001b[0;34m:\u001b[0m\u001b[0;34m\u001b[0m\u001b[0;34m\u001b[0m\u001b[0m\n\u001b[0;32m-> 3970\u001b[0;31m                 \u001b[0mnew_axis\u001b[0m \u001b[0;34m=\u001b[0m \u001b[0maxis\u001b[0m\u001b[0;34m.\u001b[0m\u001b[0mdrop\u001b[0m\u001b[0;34m(\u001b[0m\u001b[0mlabels\u001b[0m\u001b[0;34m,\u001b[0m \u001b[0merrors\u001b[0m\u001b[0;34m=\u001b[0m\u001b[0merrors\u001b[0m\u001b[0;34m)\u001b[0m\u001b[0;34m\u001b[0m\u001b[0;34m\u001b[0m\u001b[0m\n\u001b[0m\u001b[1;32m   3971\u001b[0m             \u001b[0mresult\u001b[0m \u001b[0;34m=\u001b[0m \u001b[0mself\u001b[0m\u001b[0;34m.\u001b[0m\u001b[0mreindex\u001b[0m\u001b[0;34m(\u001b[0m\u001b[0;34m**\u001b[0m\u001b[0;34m{\u001b[0m\u001b[0maxis_name\u001b[0m\u001b[0;34m:\u001b[0m \u001b[0mnew_axis\u001b[0m\u001b[0;34m}\u001b[0m\u001b[0;34m)\u001b[0m\u001b[0;34m\u001b[0m\u001b[0;34m\u001b[0m\u001b[0m\n\u001b[1;32m   3972\u001b[0m \u001b[0;34m\u001b[0m\u001b[0m\n",
      "\u001b[0;32m~/anaconda3/envs/flatiron/lib/python3.7/site-packages/pandas/core/indexes/base.py\u001b[0m in \u001b[0;36mdrop\u001b[0;34m(self, labels, errors)\u001b[0m\n\u001b[1;32m   5016\u001b[0m         \u001b[0;32mif\u001b[0m \u001b[0mmask\u001b[0m\u001b[0;34m.\u001b[0m\u001b[0many\u001b[0m\u001b[0;34m(\u001b[0m\u001b[0;34m)\u001b[0m\u001b[0;34m:\u001b[0m\u001b[0;34m\u001b[0m\u001b[0;34m\u001b[0m\u001b[0m\n\u001b[1;32m   5017\u001b[0m             \u001b[0;32mif\u001b[0m \u001b[0merrors\u001b[0m \u001b[0;34m!=\u001b[0m \u001b[0;34m\"ignore\"\u001b[0m\u001b[0;34m:\u001b[0m\u001b[0;34m\u001b[0m\u001b[0;34m\u001b[0m\u001b[0m\n\u001b[0;32m-> 5018\u001b[0;31m                 \u001b[0;32mraise\u001b[0m \u001b[0mKeyError\u001b[0m\u001b[0;34m(\u001b[0m\u001b[0;34mf\"{labels[mask]} not found in axis\"\u001b[0m\u001b[0;34m)\u001b[0m\u001b[0;34m\u001b[0m\u001b[0;34m\u001b[0m\u001b[0m\n\u001b[0m\u001b[1;32m   5019\u001b[0m             \u001b[0mindexer\u001b[0m \u001b[0;34m=\u001b[0m \u001b[0mindexer\u001b[0m\u001b[0;34m[\u001b[0m\u001b[0;34m~\u001b[0m\u001b[0mmask\u001b[0m\u001b[0;34m]\u001b[0m\u001b[0;34m\u001b[0m\u001b[0;34m\u001b[0m\u001b[0m\n\u001b[1;32m   5020\u001b[0m         \u001b[0;32mreturn\u001b[0m \u001b[0mself\u001b[0m\u001b[0;34m.\u001b[0m\u001b[0mdelete\u001b[0m\u001b[0;34m(\u001b[0m\u001b[0mindexer\u001b[0m\u001b[0;34m)\u001b[0m\u001b[0;34m\u001b[0m\u001b[0;34m\u001b[0m\u001b[0m\n",
      "\u001b[0;31mKeyError\u001b[0m: \"['fips'] not found in axis\""
     ]
    }
   ],
   "source": [
    "date_clean = date_of_study.replace(\"-\",\"\",-1)\n",
    "year = date_clean[4:8]\n",
    "month_day = date_clean[0:4]\n",
    "state_test = state_test[state_test['date'] == \"{}{}\".format('2020','0404')].drop(columns='fips')\n",
    "#state_test = subset(state_test, date ==paste0(substring(str_remove_all(date_of_study, \"-\"),5,8),substring(str_remove_all(date_of_study, \"-\"),1,4)))[,-20]\n",
    "statecode = pd.read_csv(\"https://raw.githubusercontent.com/wxwx1993/PM_COVID/master/Data/statecode.csv\")"
   ]
  },
  {
   "cell_type": "code",
   "execution_count": 24,
   "metadata": {},
   "outputs": [
    {
     "name": "stdout",
     "output_type": "stream",
     "text": [
      "<class 'pandas.core.frame.DataFrame'>\n",
      "Int64Index: 0 entries\n",
      "Data columns (total 24 columns):\n",
      " #   Column                    Non-Null Count  Dtype  \n",
      "---  ------                    --------------  -----  \n",
      " 0   date                      0 non-null      int64  \n",
      " 1   state                     0 non-null      object \n",
      " 2   positive                  0 non-null      float64\n",
      " 3   negative                  0 non-null      float64\n",
      " 4   pending                   0 non-null      float64\n",
      " 5   hospitalizedCurrently     0 non-null      float64\n",
      " 6   hospitalizedCumulative    0 non-null      float64\n",
      " 7   inIcuCurrently            0 non-null      float64\n",
      " 8   inIcuCumulative           0 non-null      float64\n",
      " 9   onVentilatorCurrently     0 non-null      float64\n",
      " 10  onVentilatorCumulative    0 non-null      float64\n",
      " 11  recovered                 0 non-null      float64\n",
      " 12  hash                      0 non-null      object \n",
      " 13  dateChecked               0 non-null      object \n",
      " 14  death                     0 non-null      float64\n",
      " 15  hospitalized              0 non-null      float64\n",
      " 16  total                     0 non-null      float64\n",
      " 17  totalTestResults          0 non-null      float64\n",
      " 18  posNeg                    0 non-null      float64\n",
      " 19  deathIncrease             0 non-null      float64\n",
      " 20  hospitalizedIncrease      0 non-null      float64\n",
      " 21  negativeIncrease          0 non-null      float64\n",
      " 22  positiveIncrease          0 non-null      float64\n",
      " 23  totalTestResultsIncrease  0 non-null      float64\n",
      "dtypes: float64(20), int64(1), object(3)\n",
      "memory usage: 0.0+ bytes\n"
     ]
    }
   ],
   "source": [
    "state_test.info()"
   ]
  },
  {
   "cell_type": "code",
   "execution_count": 89,
   "metadata": {},
   "outputs": [
    {
     "name": "stderr",
     "output_type": "stream",
     "text": [
      "/home/angelo/anaconda3/envs/flatiron/lib/python3.7/site-packages/ipykernel_launcher.py:2: SettingWithCopyWarning: \n",
      "A value is trying to be set on a copy of a slice from a DataFrame\n",
      "\n",
      "See the caveats in the documentation: https://pandas.pydata.org/pandas-docs/stable/user_guide/indexing.html#returning-a-view-versus-a-copy\n",
      "  \n"
     ]
    }
   ],
   "source": [
    "hospitals = pd.read_csv(\"https://opendata.arcgis.com/datasets/6ac5e325468c4cb9b905f1728d6fbf0f_0.csv?outSR=%7B%22latestWkid%22%3A3857%2C%22wkid%22%3A102100%7D\")\n",
    "hospitals['BEDS'][hospitals['BEDS'] < 0] = 0"
   ]
  },
  {
   "cell_type": "code",
   "execution_count": 26,
   "metadata": {},
   "outputs": [
    {
     "name": "stdout",
     "output_type": "stream",
     "text": [
      "<class 'pandas.core.frame.DataFrame'>\n",
      "Float64Index: 3145 entries, nan to nan\n",
      "Data columns (total 5 columns):\n",
      " #   Column       Non-Null Count  Dtype  \n",
      "---  ------       --------------  -----  \n",
      " 0   County       3145 non-null   object \n",
      " 1   County Code  3145 non-null   int64  \n",
      " 2   Deaths       3145 non-null   int64  \n",
      " 3   Population   3145 non-null   int64  \n",
      " 4   Crude Rate   3145 non-null   float64\n",
      "dtypes: float64(1), int64(3), object(1)\n",
      "memory usage: 147.4+ KB\n"
     ]
    }
   ],
   "source": [
    "county_base_mortality = pd.read_table(\"https://raw.githubusercontent.com/wxwx1993/PM_COVID/master/Data/county_base_mortality.txt\", sep='\\t')\n",
    "county_old_mortality = pd.read_table(\"https://raw.githubusercontent.com/wxwx1993/PM_COVID/master/Data/county_old_mortality.txt\",  sep='\\t')\n",
    "county_old_mortality.info()"
   ]
  },
  {
   "cell_type": "code",
   "execution_count": 38,
   "metadata": {},
   "outputs": [
    {
     "data": {
      "text/html": [
       "<div>\n",
       "<style scoped>\n",
       "    .dataframe tbody tr th:only-of-type {\n",
       "        vertical-align: middle;\n",
       "    }\n",
       "\n",
       "    .dataframe tbody tr th {\n",
       "        vertical-align: top;\n",
       "    }\n",
       "\n",
       "    .dataframe thead th {\n",
       "        text-align: right;\n",
       "    }\n",
       "</style>\n",
       "<table border=\"1\" class=\"dataframe\">\n",
       "  <thead>\n",
       "    <tr style=\"text-align: right;\">\n",
       "      <th></th>\n",
       "      <th>County</th>\n",
       "      <th>County Code</th>\n",
       "      <th>Deaths</th>\n",
       "      <th>older_Population</th>\n",
       "      <th>Crude Rate</th>\n",
       "    </tr>\n",
       "  </thead>\n",
       "  <tbody>\n",
       "    <tr>\n",
       "      <th>NaN</th>\n",
       "      <td>Autauga County, AL</td>\n",
       "      <td>1001</td>\n",
       "      <td>5338</td>\n",
       "      <td>109652</td>\n",
       "      <td>4868.1</td>\n",
       "    </tr>\n",
       "    <tr>\n",
       "      <th>NaN</th>\n",
       "      <td>Baldwin County, AL</td>\n",
       "      <td>1003</td>\n",
       "      <td>22452</td>\n",
       "      <td>526184</td>\n",
       "      <td>4266.9</td>\n",
       "    </tr>\n",
       "    <tr>\n",
       "      <th>NaN</th>\n",
       "      <td>Barbour County, AL</td>\n",
       "      <td>1005</td>\n",
       "      <td>3675</td>\n",
       "      <td>71542</td>\n",
       "      <td>5136.8</td>\n",
       "    </tr>\n",
       "    <tr>\n",
       "      <th>NaN</th>\n",
       "      <td>Bibb County, AL</td>\n",
       "      <td>1007</td>\n",
       "      <td>2685</td>\n",
       "      <td>51438</td>\n",
       "      <td>5219.9</td>\n",
       "    </tr>\n",
       "    <tr>\n",
       "      <th>NaN</th>\n",
       "      <td>Blount County, AL</td>\n",
       "      <td>1009</td>\n",
       "      <td>7076</td>\n",
       "      <td>146136</td>\n",
       "      <td>4842.1</td>\n",
       "    </tr>\n",
       "  </tbody>\n",
       "</table>\n",
       "</div>"
      ],
      "text/plain": [
       "                 County  County Code  Deaths  older_Population  Crude Rate\n",
       "NaN  Autauga County, AL         1001    5338            109652      4868.1\n",
       "NaN  Baldwin County, AL         1003   22452            526184      4266.9\n",
       "NaN  Barbour County, AL         1005    3675             71542      5136.8\n",
       "NaN     Bibb County, AL         1007    2685             51438      5219.9\n",
       "NaN   Blount County, AL         1009    7076            146136      4842.1"
      ]
     },
     "execution_count": 38,
     "metadata": {},
     "output_type": "execute_result"
    }
   ],
   "source": [
    "county_old_mortality=county_old_mortality.rename(columns={\"Population\": \"older_Population\"})\n",
    "county_old_mortality.head()"
   ]
  },
  {
   "cell_type": "code",
   "execution_count": 39,
   "metadata": {},
   "outputs": [
    {
     "data": {
      "text/html": [
       "<div>\n",
       "<style scoped>\n",
       "    .dataframe tbody tr th:only-of-type {\n",
       "        vertical-align: middle;\n",
       "    }\n",
       "\n",
       "    .dataframe tbody tr th {\n",
       "        vertical-align: top;\n",
       "    }\n",
       "\n",
       "    .dataframe thead th {\n",
       "        text-align: right;\n",
       "    }\n",
       "</style>\n",
       "<table border=\"1\" class=\"dataframe\">\n",
       "  <thead>\n",
       "    <tr style=\"text-align: right;\">\n",
       "      <th></th>\n",
       "      <th>County</th>\n",
       "      <th>County Code</th>\n",
       "      <th>Deaths</th>\n",
       "      <th>Population</th>\n",
       "      <th>Crude Rate_x</th>\n",
       "      <th>Age Adjusted Rate</th>\n",
       "      <th>% of Total Deaths</th>\n",
       "      <th>Crude Rate_y</th>\n",
       "    </tr>\n",
       "  </thead>\n",
       "  <tbody>\n",
       "    <tr>\n",
       "      <th>0</th>\n",
       "      <td>Autauga County, AL</td>\n",
       "      <td>1001</td>\n",
       "      <td>7893</td>\n",
       "      <td>918492</td>\n",
       "      <td>859.3</td>\n",
       "      <td>958.8</td>\n",
       "      <td>0.0%</td>\n",
       "      <td>4868.1</td>\n",
       "    </tr>\n",
       "    <tr>\n",
       "      <th>1</th>\n",
       "      <td>Baldwin County, AL</td>\n",
       "      <td>1003</td>\n",
       "      <td>30292</td>\n",
       "      <td>3102984</td>\n",
       "      <td>976.2</td>\n",
       "      <td>812.6</td>\n",
       "      <td>0.1%</td>\n",
       "      <td>4266.9</td>\n",
       "    </tr>\n",
       "    <tr>\n",
       "      <th>2</th>\n",
       "      <td>Barbour County, AL</td>\n",
       "      <td>1005</td>\n",
       "      <td>5197</td>\n",
       "      <td>499262</td>\n",
       "      <td>1040.9</td>\n",
       "      <td>951.7</td>\n",
       "      <td>0.0%</td>\n",
       "      <td>5136.8</td>\n",
       "    </tr>\n",
       "    <tr>\n",
       "      <th>3</th>\n",
       "      <td>Bibb County, AL</td>\n",
       "      <td>1007</td>\n",
       "      <td>4089</td>\n",
       "      <td>397470</td>\n",
       "      <td>1028.8</td>\n",
       "      <td>1025.5</td>\n",
       "      <td>0.0%</td>\n",
       "      <td>5219.9</td>\n",
       "    </tr>\n",
       "    <tr>\n",
       "      <th>4</th>\n",
       "      <td>Blount County, AL</td>\n",
       "      <td>1009</td>\n",
       "      <td>9912</td>\n",
       "      <td>997531</td>\n",
       "      <td>993.7</td>\n",
       "      <td>929.4</td>\n",
       "      <td>0.0%</td>\n",
       "      <td>4842.1</td>\n",
       "    </tr>\n",
       "  </tbody>\n",
       "</table>\n",
       "</div>"
      ],
      "text/plain": [
       "               County  County Code  Deaths  Population  Crude Rate_x  \\\n",
       "0  Autauga County, AL         1001    7893      918492         859.3   \n",
       "1  Baldwin County, AL         1003   30292     3102984         976.2   \n",
       "2  Barbour County, AL         1005    5197      499262        1040.9   \n",
       "3     Bibb County, AL         1007    4089      397470        1028.8   \n",
       "4   Blount County, AL         1009    9912      997531         993.7   \n",
       "\n",
       "   Age Adjusted Rate % of Total Deaths  Crude Rate_y  \n",
       "0              958.8              0.0%        4868.1  \n",
       "1              812.6              0.1%        4266.9  \n",
       "2              951.7              0.0%        5136.8  \n",
       "3             1025.5              0.0%        5219.9  \n",
       "4              929.4              0.0%        4842.1  "
      ]
     },
     "execution_count": 39,
     "metadata": {},
     "output_type": "execute_result"
    }
   ],
   "source": [
    "county_base_mortality.head()"
   ]
  },
  {
   "cell_type": "code",
   "execution_count": 41,
   "metadata": {},
   "outputs": [],
   "source": [
    "county_old_mortality1= county_old_mortality.iloc[:,[1,4]]\n",
    "\n",
    "county_base_mortality = county_base_mortality.merge(county_old_mortality1,on=\"County Code\", how='inner',)\n",
    "\n",
    "county_base_mortality['older_pecent'] = county_base_mortality['Population']/county_base_mortality['Population']"
   ]
  },
  {
   "cell_type": "code",
   "execution_count": 42,
   "metadata": {},
   "outputs": [
    {
     "name": "stdout",
     "output_type": "stream",
     "text": [
      "<class 'pandas.core.frame.DataFrame'>\n",
      "RangeIndex: 51 entries, 0 to 50\n",
      "Data columns (total 3 columns):\n",
      " #   Column  Non-Null Count  Dtype \n",
      "---  ------  --------------  ----- \n",
      " 0   State   51 non-null     object\n",
      " 1   Abbrev  51 non-null     object\n",
      " 2   Code    51 non-null     object\n",
      "dtypes: object(3)\n",
      "memory usage: 1.3+ KB\n"
     ]
    }
   ],
   "source": [
    "statecode.info()"
   ]
  },
  {
   "cell_type": "code",
   "execution_count": 43,
   "metadata": {},
   "outputs": [],
   "source": [
    "# merging data\n",
    "state_test = pd.merge(left=state_test, right=statecode, left_on='state', right_on='Code')"
   ]
  },
  {
   "cell_type": "code",
   "execution_count": 44,
   "metadata": {},
   "outputs": [
    {
     "name": "stdout",
     "output_type": "stream",
     "text": [
      "<class 'pandas.core.frame.DataFrame'>\n",
      "RangeIndex: 54961 entries, 0 to 54960\n",
      "Data columns (total 6 columns):\n",
      " #   Column       Non-Null Count  Dtype  \n",
      "---  ------       --------------  -----  \n",
      " 0   fips         54961 non-null  int64  \n",
      " 1   year         54961 non-null  int64  \n",
      " 2   summer_tmmx  52836 non-null  float64\n",
      " 3   summer_rmax  52836 non-null  float64\n",
      " 4   winter_tmmx  52836 non-null  float64\n",
      " 5   winter_rmax  52836 non-null  float64\n",
      "dtypes: float64(4), int64(2)\n",
      "memory usage: 2.5 MB\n"
     ]
    }
   ],
   "source": [
    "county_temp.info()"
   ]
  },
  {
   "cell_type": "code",
   "execution_count": 45,
   "metadata": {},
   "outputs": [],
   "source": [
    "# pm average over 17 years\n",
    "\n",
    "\n",
    "\n",
    "county_pm_aggregated = county_pm.groupby('fips').agg(mean_pm25=('pm25','mean')).reset_index()\n",
    "# pm most recent 2016\n",
    "#county_pm_aggregated = subset(county_pm , year==2016)\n",
    "#county_pm_aggregated$mean_pm25 = county_pm_aggregated$pm25\n",
    "\n",
    "# pm average over 17 years\n",
    "county_temp_aggregated=county_temp.groupby('fips').agg(mean_winter_temp =  ('winter_tmmx', 'mean'), \n",
    "                                                       mean_summer_temp= ('summer_tmmx', 'mean'), \n",
    "                                                       mean_winter_rm= ('winter_rmax', 'mean'), \n",
    "                                                       mean_summer_rm= ('summer_rmax', 'mean')).reset_index()\n",
    "                                                        \n"
   ]
  },
  {
   "cell_type": "code",
   "execution_count": 46,
   "metadata": {},
   "outputs": [],
   "source": [
    "county_pm_aggregated = county_pm_aggregated.merge(county_temp_aggregated,on=\"fips\",how='left')\n"
   ]
  },
  {
   "cell_type": "code",
   "execution_count": 47,
   "metadata": {},
   "outputs": [],
   "source": [
    "county_hospitals_aggregated = hospitals.groupby('COUNTYFIPS').agg(beds =('BEDS', sum)).reset_index()\n",
    "                                                        \n"
   ]
  },
  {
   "cell_type": "code",
   "execution_count": null,
   "metadata": {},
   "outputs": [],
   "source": [
    "county_census_aggregated2 = county_census[county_census['year']==2016]\n",
    "county_census_aggregated2['q_popdensity'] = 1\n",
    "quantile_popdensity = county_census_aggregated2['popdensity'].quantile([0.25,0.5,0.75])\n",
    "\n"
   ]
  },
  {
   "cell_type": "code",
   "execution_count": 49,
   "metadata": {},
   "outputs": [
    {
     "name": "stdout",
     "output_type": "stream",
     "text": [
      "<class 'pandas.core.frame.DataFrame'>\n",
      "Int64Index: 3208 entries, 17 to 57743\n",
      "Data columns (total 15 columns):\n",
      " #   Column              Non-Null Count  Dtype  \n",
      "---  ------              --------------  -----  \n",
      " 0   fips                3207 non-null   float64\n",
      " 1   year                3208 non-null   int64  \n",
      " 2   poverty             3208 non-null   float64\n",
      " 3   popdensity          3208 non-null   float64\n",
      " 4   medianhousevalue    3208 non-null   float64\n",
      " 5   pct_blk             3208 non-null   float64\n",
      " 6   medhouseholdincome  3208 non-null   float64\n",
      " 7   pct_owner_occ       3208 non-null   float64\n",
      " 8   hispanic            3208 non-null   float64\n",
      " 9   education           3208 non-null   float64\n",
      " 10  population          3208 non-null   float64\n",
      " 11  pct_asian           3208 non-null   float64\n",
      " 12  pct_native          3208 non-null   float64\n",
      " 13  pct_white           3208 non-null   float64\n",
      " 14  q_popdensity        3208 non-null   int64  \n",
      "dtypes: float64(13), int64(2)\n",
      "memory usage: 401.0 KB\n"
     ]
    }
   ],
   "source": [
    "county_census_aggregated2.info()"
   ]
  },
  {
   "cell_type": "code",
   "execution_count": 86,
   "metadata": {},
   "outputs": [],
   "source": [
    "\n",
    "\n",
    "county_census_aggregated2.loc[county_census_aggregated2['popdensity'] <= quantile_popdensity[0.25], 'q_popdensity'] = 1\n",
    "\n"
   ]
  },
  {
   "cell_type": "code",
   "execution_count": 51,
   "metadata": {},
   "outputs": [],
   "source": [
    "county_census_aggregated2.loc[(county_census_aggregated2['popdensity'] > quantile_popdensity[0.25]) &\n",
    "                              (county_census_aggregated2['popdensity'] <= quantile_popdensity[0.50]), 'q_popdensity'] = 2\n",
    "\n",
    "\n"
   ]
  },
  {
   "cell_type": "code",
   "execution_count": 52,
   "metadata": {},
   "outputs": [],
   "source": [
    "county_census_aggregated2.loc[(county_census_aggregated2['popdensity'] > quantile_popdensity[0.50]) & \n",
    "                              (county_census_aggregated2['popdensity'] <= quantile_popdensity[0.75]), 'q_popdensity'] = 3\n",
    "\n",
    "\n",
    "county_census_aggregated2.loc[county_census_aggregated2['popdensity'] > quantile_popdensity[0.75], 'q_popdensity'] = 4\n",
    "\n",
    "\n"
   ]
  },
  {
   "cell_type": "code",
   "execution_count": 53,
   "metadata": {},
   "outputs": [],
   "source": [
    "county_brfss_aggregated = county_brfss[county_brfss['year']==2012]\n",
    "\n",
    "county_census_aggregated2 = county_census_aggregated2.merge(county_brfss_aggregated,on=\"fips\",how='left')\n",
    "\n"
   ]
  },
  {
   "cell_type": "code",
   "execution_count": 54,
   "metadata": {},
   "outputs": [],
   "source": [
    "\n",
    "\n",
    "aggregate_pm = pd.merge(left=county_pm_aggregated,right=covid_us,left_on=\"fips\",right_on = \"FIPS\")\n",
    "\n",
    "aggregate_pm_census = pd.merge(left=aggregate_pm,right=county_census_aggregated2,left_on=\"fips\",right_on = \"fips\")\n",
    "\n",
    "\n",
    "\n",
    "\n",
    "\n"
   ]
  },
  {
   "cell_type": "code",
   "execution_count": 55,
   "metadata": {},
   "outputs": [],
   "source": [
    "aggregate_pm_census_cdc = pd.merge(left=aggregate_pm_census,right=county_base_mortality.iloc[:,[1,4,5,8,9]],left_on = \"fips\",right_on = \"County Code\",how='left')"
   ]
  },
  {
   "cell_type": "code",
   "execution_count": 56,
   "metadata": {},
   "outputs": [],
   "source": [
    "aggregate_pm_census_cdc = aggregate_pm_census_cdc[(aggregate_pm_census['fips'].isnull() == False)]"
   ]
  },
  {
   "cell_type": "code",
   "execution_count": 72,
   "metadata": {},
   "outputs": [
    {
     "data": {
      "text/html": [
       "<div>\n",
       "<style scoped>\n",
       "    .dataframe tbody tr th:only-of-type {\n",
       "        vertical-align: middle;\n",
       "    }\n",
       "\n",
       "    .dataframe tbody tr th {\n",
       "        vertical-align: top;\n",
       "    }\n",
       "\n",
       "    .dataframe thead th {\n",
       "        text-align: right;\n",
       "    }\n",
       "</style>\n",
       "<table border=\"1\" class=\"dataframe\">\n",
       "  <thead>\n",
       "    <tr style=\"text-align: right;\">\n",
       "      <th></th>\n",
       "      <th>mean_pm25</th>\n",
       "      <th>mean_winter_temp</th>\n",
       "      <th>mean_summer_temp</th>\n",
       "      <th>mean_winter_rm</th>\n",
       "      <th>mean_summer_rm</th>\n",
       "      <th>FIPS</th>\n",
       "      <th>Admin2</th>\n",
       "      <th>Province_State</th>\n",
       "      <th>Country_Region</th>\n",
       "      <th>Last_Update</th>\n",
       "      <th>...</th>\n",
       "      <th>posNeg</th>\n",
       "      <th>deathIncrease</th>\n",
       "      <th>hospitalizedIncrease</th>\n",
       "      <th>negativeIncrease</th>\n",
       "      <th>positiveIncrease</th>\n",
       "      <th>totalTestResultsIncrease</th>\n",
       "      <th>State</th>\n",
       "      <th>Abbrev</th>\n",
       "      <th>Code</th>\n",
       "      <th>population_frac_county</th>\n",
       "    </tr>\n",
       "  </thead>\n",
       "  <tbody>\n",
       "  </tbody>\n",
       "</table>\n",
       "<p>0 rows × 68 columns</p>\n",
       "</div>"
      ],
      "text/plain": [
       "Empty DataFrame\n",
       "Columns: [mean_pm25, mean_winter_temp, mean_summer_temp, mean_winter_rm, mean_summer_rm, FIPS, Admin2, Province_State, Country_Region, Last_Update, Lat, Long_, Confirmed, Deaths, Recovered, Active, Combined_Key, fips, year_x, poverty, popdensity, medianhousevalue, pct_blk, medhouseholdincome, pct_owner_occ, hispanic, education, population, pct_asian, pct_native, pct_white, q_popdensity, smoke_rate, mean_bmi, year_y, County Code, Crude Rate_x, Age Adjusted Rate, Crude Rate_x, Crude Rate_y, date, state, positive, negative, pending, hospitalizedCurrently, hospitalizedCumulative, inIcuCurrently, inIcuCumulative, onVentilatorCurrently, onVentilatorCumulative, recovered, hash, dateChecked, death, hospitalized, total, totalTestResults, posNeg, deathIncrease, hospitalizedIncrease, negativeIncrease, positiveIncrease, totalTestResultsIncrease, State, Abbrev, Code, population_frac_county]\n",
       "Index: []\n",
       "\n",
       "[0 rows x 68 columns]"
      ]
     },
     "execution_count": 72,
     "metadata": {},
     "output_type": "execute_result"
    }
   ],
   "source": [
    "aggregate_pm_census_cdc_test.head()"
   ]
  },
  {
   "cell_type": "code",
   "execution_count": 83,
   "metadata": {},
   "outputs": [],
   "source": [
    "aggregate_pm_census_cdc_test = pd.merge(left=aggregate_pm_census_cdc,right=state_test,left_on=\"Province_State\",right_on = \"State\")\n",
    "\n"
   ]
  },
  {
   "cell_type": "code",
   "execution_count": 87,
   "metadata": {},
   "outputs": [],
   "source": [
    "aggregate_pm_census_cdc_test\n",
    "\n",
    "\n",
    "total_pop = aggregate_pm_census_cdc_test['population'].sum()\n",
    "aggregate_pm_census_cdc_test['population_frac_county']=[x['population']/total_pop for x in aggregate_pm_census_cdc_test.iterrows()]\n",
    "aggregate_pm_census_cdc_test['totalTestResults_county']=[x['population_frac_county']*x['totalTestResults']for x in aggregate_pm_census_cdc_test.iterrows()]\n",
    "                          "
   ]
  },
  {
   "cell_type": "code",
   "execution_count": 156,
   "metadata": {},
   "outputs": [],
   "source": [
    "aggregate_pm_census_cdc_test_beds = pd.merge(left=aggregate_pm_census_cdc_test,right=county_hospitals_aggregated,left_on = \"fips\",right_on = \"COUNTYFIPS\",how = 'left')"
   ]
  },
  {
   "cell_type": "code",
   "execution_count": null,
   "metadata": {},
   "outputs": [],
   "source": []
  }
 ],
 "metadata": {
  "kernelspec": {
   "display_name": "Python 3",
   "language": "python",
   "name": "python3"
  },
  "language_info": {
   "codemirror_mode": {
    "name": "ipython",
    "version": 3
   },
   "file_extension": ".py",
   "mimetype": "text/x-python",
   "name": "python",
   "nbconvert_exporter": "python",
   "pygments_lexer": "ipython3",
   "version": "3.7.6"
  }
 },
 "nbformat": 4,
 "nbformat_minor": 4
}
