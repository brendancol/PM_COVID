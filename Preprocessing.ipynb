{
 "cells": [
  {
   "cell_type": "code",
   "execution_count": 1,
   "metadata": {},
   "outputs": [],
   "source": [
    "from dplython import select, DplyFrame, X, arrange, count, sift, head, summarize, group_by, tail, mutate\n",
    "import numpy as np\n",
    "import pandas as pd\n",
    "import string\n",
    "import rcurl"
   ]
  },
  {
   "cell_type": "code",
   "execution_count": 2,
   "metadata": {},
   "outputs": [
    {
     "name": "stdout",
     "output_type": "stream",
     "text": [
      "<class 'pandas.core.frame.DataFrame'>\n",
      "RangeIndex: 3439 entries, 0 to 3438\n",
      "Data columns (total 12 columns):\n",
      " #   Column          Non-Null Count  Dtype  \n",
      "---  ------          --------------  -----  \n",
      " 0   FIPS            3148 non-null   float64\n",
      " 1   Admin2          3178 non-null   object \n",
      " 2   Province_State  3265 non-null   object \n",
      " 3   Country_Region  3439 non-null   object \n",
      " 4   Last_Update     3439 non-null   object \n",
      " 5   Lat             3439 non-null   float64\n",
      " 6   Long_           3439 non-null   float64\n",
      " 7   Confirmed       3439 non-null   int64  \n",
      " 8   Deaths          3439 non-null   int64  \n",
      " 9   Recovered       3439 non-null   int64  \n",
      " 10  Active          3439 non-null   int64  \n",
      " 11  Combined_Key    3439 non-null   object \n",
      "dtypes: float64(3), int64(4), object(5)\n",
      "memory usage: 322.5+ KB\n"
     ]
    }
   ],
   "source": [
    "date_of_study = \"04-04-2020\"\n",
    "# Historical data\n",
    "covid_hist = pd.read_csv(\"https://raw.githubusercontent.com/CSSEGISandData/COVID-19/master/csse_covid_19_data/csse_covid_19_daily_reports/03-30-2020.csv\")\n",
    "\n",
    "covid_hist.info()"
   ]
  },
  {
   "cell_type": "code",
   "execution_count": 3,
   "metadata": {},
   "outputs": [
    {
     "data": {
      "text/html": [
       "<div>\n",
       "<style scoped>\n",
       "    .dataframe tbody tr th:only-of-type {\n",
       "        vertical-align: middle;\n",
       "    }\n",
       "\n",
       "    .dataframe tbody tr th {\n",
       "        vertical-align: top;\n",
       "    }\n",
       "\n",
       "    .dataframe thead th {\n",
       "        text-align: right;\n",
       "    }\n",
       "</style>\n",
       "<table border=\"1\" class=\"dataframe\">\n",
       "  <thead>\n",
       "    <tr style=\"text-align: right;\">\n",
       "      <th></th>\n",
       "      <th>FIPS</th>\n",
       "      <th>Admin2</th>\n",
       "      <th>Province_State</th>\n",
       "      <th>Country_Region</th>\n",
       "      <th>Last_Update</th>\n",
       "      <th>Lat</th>\n",
       "      <th>Long_</th>\n",
       "      <th>Confirmed</th>\n",
       "      <th>Deaths</th>\n",
       "      <th>Recovered</th>\n",
       "      <th>Active</th>\n",
       "      <th>Combined_Key</th>\n",
       "    </tr>\n",
       "  </thead>\n",
       "  <tbody>\n",
       "    <tr>\n",
       "      <th>0</th>\n",
       "      <td>45001.0</td>\n",
       "      <td>Abbeville</td>\n",
       "      <td>South Carolina</td>\n",
       "      <td>US</td>\n",
       "      <td>3/30/20 22:52</td>\n",
       "      <td>34.223334</td>\n",
       "      <td>-82.461707</td>\n",
       "      <td>3</td>\n",
       "      <td>0</td>\n",
       "      <td>0</td>\n",
       "      <td>0</td>\n",
       "      <td>Abbeville, South Carolina, US</td>\n",
       "    </tr>\n",
       "    <tr>\n",
       "      <th>1</th>\n",
       "      <td>22001.0</td>\n",
       "      <td>Acadia</td>\n",
       "      <td>Louisiana</td>\n",
       "      <td>US</td>\n",
       "      <td>3/30/20 22:52</td>\n",
       "      <td>30.295065</td>\n",
       "      <td>-92.414197</td>\n",
       "      <td>11</td>\n",
       "      <td>1</td>\n",
       "      <td>0</td>\n",
       "      <td>0</td>\n",
       "      <td>Acadia, Louisiana, US</td>\n",
       "    </tr>\n",
       "    <tr>\n",
       "      <th>2</th>\n",
       "      <td>51001.0</td>\n",
       "      <td>Accomack</td>\n",
       "      <td>Virginia</td>\n",
       "      <td>US</td>\n",
       "      <td>3/30/20 22:52</td>\n",
       "      <td>37.767072</td>\n",
       "      <td>-75.632346</td>\n",
       "      <td>6</td>\n",
       "      <td>0</td>\n",
       "      <td>0</td>\n",
       "      <td>0</td>\n",
       "      <td>Accomack, Virginia, US</td>\n",
       "    </tr>\n",
       "    <tr>\n",
       "      <th>3</th>\n",
       "      <td>16001.0</td>\n",
       "      <td>Ada</td>\n",
       "      <td>Idaho</td>\n",
       "      <td>US</td>\n",
       "      <td>3/30/20 22:52</td>\n",
       "      <td>43.452658</td>\n",
       "      <td>-116.241552</td>\n",
       "      <td>113</td>\n",
       "      <td>2</td>\n",
       "      <td>0</td>\n",
       "      <td>0</td>\n",
       "      <td>Ada, Idaho, US</td>\n",
       "    </tr>\n",
       "    <tr>\n",
       "      <th>4</th>\n",
       "      <td>19001.0</td>\n",
       "      <td>Adair</td>\n",
       "      <td>Iowa</td>\n",
       "      <td>US</td>\n",
       "      <td>3/30/20 22:52</td>\n",
       "      <td>41.330756</td>\n",
       "      <td>-94.471059</td>\n",
       "      <td>1</td>\n",
       "      <td>0</td>\n",
       "      <td>0</td>\n",
       "      <td>0</td>\n",
       "      <td>Adair, Iowa, US</td>\n",
       "    </tr>\n",
       "  </tbody>\n",
       "</table>\n",
       "</div>"
      ],
      "text/plain": [
       "      FIPS     Admin2  Province_State Country_Region    Last_Update  \\\n",
       "0  45001.0  Abbeville  South Carolina             US  3/30/20 22:52   \n",
       "1  22001.0     Acadia       Louisiana             US  3/30/20 22:52   \n",
       "2  51001.0   Accomack        Virginia             US  3/30/20 22:52   \n",
       "3  16001.0        Ada           Idaho             US  3/30/20 22:52   \n",
       "4  19001.0      Adair            Iowa             US  3/30/20 22:52   \n",
       "\n",
       "         Lat       Long_  Confirmed  Deaths  Recovered  Active  \\\n",
       "0  34.223334  -82.461707          3       0          0       0   \n",
       "1  30.295065  -92.414197         11       1          0       0   \n",
       "2  37.767072  -75.632346          6       0          0       0   \n",
       "3  43.452658 -116.241552        113       2          0       0   \n",
       "4  41.330756  -94.471059          1       0          0       0   \n",
       "\n",
       "                    Combined_Key  \n",
       "0  Abbeville, South Carolina, US  \n",
       "1          Acadia, Louisiana, US  \n",
       "2         Accomack, Virginia, US  \n",
       "3                 Ada, Idaho, US  \n",
       "4                Adair, Iowa, US  "
      ]
     },
     "execution_count": 3,
     "metadata": {},
     "output_type": "execute_result"
    }
   ],
   "source": [
    "covid_us_hist = covid_hist[(covid_hist['Country_Region'] == \"US\") & (covid_hist['FIPS'].isnull() == False)]\n",
    "covid_us_hist.head()"
   ]
  },
  {
   "cell_type": "code",
   "execution_count": 4,
   "metadata": {
    "scrolled": true
   },
   "outputs": [],
   "source": [
    "# Import outcome data from JHU CSSE\n",
    "covid = pd.read_csv(\"https://raw.githubusercontent.com/CSSEGISandData/COVID-19/master/csse_covid_19_data/csse_covid_19_daily_reports/{}.csv\".format(date_of_study))\n",
    "\n",
    "#covid = read.csv(text=getURL(paste0(\"https://raw.githubusercontent.com/CSSEGISandData/COVID-19/master/csse_covid_19_data/csse_covid_19_daily_reports/\",date_of_study,\".csv\")))\n",
    "\n",
    "covid_us = covid[(covid['Country_Region'] == \"US\") & (covid['FIPS'].isnull() == True)]\n",
    "covid_us1 = covid_us_hist[(covid_us_hist['FIPS'].isin(covid_us)) & (covid_us_hist['Confirmed'] == 0) & (covid_us_hist['Deaths'] == 0) & (covid_us_hist['FIPS'].isnull() == False)]\n",
    "\n",
    "covid_us = covid_us.append(covid_us1)"
   ]
  },
  {
   "cell_type": "code",
   "execution_count": 5,
   "metadata": {},
   "outputs": [],
   "source": [
    "# Import exposure PM2.5 data\n",
    "county_pm = pd.read_csv(\"https://raw.githubusercontent.com/wxwx1993/PM_COVID/master/Data/county_pm25.csv\")\n",
    "county_temp = pd.read_csv(\"https://raw.githubusercontent.com/wxwx1993/PM_COVID/master/Data/temp_seasonal_county.csv\")"
   ]
  },
  {
   "cell_type": "code",
   "execution_count": 9,
   "metadata": {},
   "outputs": [
    {
     "name": "stdout",
     "output_type": "stream",
     "text": [
      "<class 'pandas.core.frame.DataFrame'>\n",
      "RangeIndex: 2340 entries, 0 to 2339\n",
      "Data columns (total 25 columns):\n",
      " #   Column                    Non-Null Count  Dtype  \n",
      "---  ------                    --------------  -----  \n",
      " 0   date                      2340 non-null   int64  \n",
      " 1   state                     2340 non-null   object \n",
      " 2   positive                  2325 non-null   float64\n",
      " 3   negative                  2184 non-null   float64\n",
      " 4   pending                   552 non-null    float64\n",
      " 5   hospitalizedCurrently     495 non-null    float64\n",
      " 6   hospitalizedCumulative    713 non-null    float64\n",
      " 7   inIcuCurrently            230 non-null    float64\n",
      " 8   inIcuCumulative           118 non-null    float64\n",
      " 9   onVentilatorCurrently     194 non-null    float64\n",
      " 10  onVentilatorCumulative    36 non-null     float64\n",
      " 11  recovered                 460 non-null    float64\n",
      " 12  hash                      2340 non-null   object \n",
      " 13  dateChecked               2340 non-null   object \n",
      " 14  death                     1627 non-null   float64\n",
      " 15  hospitalized              713 non-null    float64\n",
      " 16  total                     2338 non-null   float64\n",
      " 17  totalTestResults          2338 non-null   float64\n",
      " 18  posNeg                    2338 non-null   float64\n",
      " 19  fips                      2340 non-null   int64  \n",
      " 20  deathIncrease             2284 non-null   float64\n",
      " 21  hospitalizedIncrease      2284 non-null   float64\n",
      " 22  negativeIncrease          2284 non-null   float64\n",
      " 23  positiveIncrease          2284 non-null   float64\n",
      " 24  totalTestResultsIncrease  2284 non-null   float64\n",
      "dtypes: float64(20), int64(2), object(3)\n",
      "memory usage: 457.2+ KB\n"
     ]
    }
   ],
   "source": [
    "# Import census, brfss, testing, mortality, hosptial beds data as potential confounders\n",
    "county_census = pd.read_csv(\"https://raw.githubusercontent.com/wxwx1993/PM_COVID/master/Data/census_county_interpolated.csv\")\n",
    "county_brfss = pd.read_csv(\"https://raw.githubusercontent.com/wxwx1993/PM_COVID/master/Data/brfss_county_interpolated.csv\")\n",
    "state_test = pd.read_csv(\"https://covidtracking.com/api/states/daily.csv\")\n",
    "state_test.info()"
   ]
  },
  {
   "cell_type": "code",
   "execution_count": 14,
   "metadata": {},
   "outputs": [
    {
     "name": "stderr",
     "output_type": "stream",
     "text": [
      "/home/angelo/anaconda3/envs/flatiron/lib/python3.7/site-packages/pandas/core/ops/array_ops.py:253: FutureWarning: elementwise comparison failed; returning scalar instead, but in the future will perform elementwise comparison\n",
      "  res_values = method(rvalues)\n"
     ]
    }
   ],
   "source": [
    "date_clean = date_of_study.replace(\"-\",\"\",-1)\n",
    "year = date_clean[4:8]\n",
    "month_day = date_clean[0:4]\n",
    "state_test = state_test[state_test['date'] == \"{}{}\".format('2020','0404')].drop(columns='fips')\n",
    "#state_test = subset(state_test, date ==paste0(substring(str_remove_all(date_of_study, \"-\"),5,8),substring(str_remove_all(date_of_study, \"-\"),1,4)))[,-20]\n",
    "statecode = pd.read_csv(\"https://raw.githubusercontent.com/wxwx1993/PM_COVID/master/Data/statecode.csv\")"
   ]
  },
  {
   "cell_type": "code",
   "execution_count": 15,
   "metadata": {},
   "outputs": [
    {
     "name": "stdout",
     "output_type": "stream",
     "text": [
      "<class 'pandas.core.frame.DataFrame'>\n",
      "Int64Index: 0 entries\n",
      "Data columns (total 24 columns):\n",
      " #   Column                    Non-Null Count  Dtype  \n",
      "---  ------                    --------------  -----  \n",
      " 0   date                      0 non-null      int64  \n",
      " 1   state                     0 non-null      object \n",
      " 2   positive                  0 non-null      float64\n",
      " 3   negative                  0 non-null      float64\n",
      " 4   pending                   0 non-null      float64\n",
      " 5   hospitalizedCurrently     0 non-null      float64\n",
      " 6   hospitalizedCumulative    0 non-null      float64\n",
      " 7   inIcuCurrently            0 non-null      float64\n",
      " 8   inIcuCumulative           0 non-null      float64\n",
      " 9   onVentilatorCurrently     0 non-null      float64\n",
      " 10  onVentilatorCumulative    0 non-null      float64\n",
      " 11  recovered                 0 non-null      float64\n",
      " 12  hash                      0 non-null      object \n",
      " 13  dateChecked               0 non-null      object \n",
      " 14  death                     0 non-null      float64\n",
      " 15  hospitalized              0 non-null      float64\n",
      " 16  total                     0 non-null      float64\n",
      " 17  totalTestResults          0 non-null      float64\n",
      " 18  posNeg                    0 non-null      float64\n",
      " 19  deathIncrease             0 non-null      float64\n",
      " 20  hospitalizedIncrease      0 non-null      float64\n",
      " 21  negativeIncrease          0 non-null      float64\n",
      " 22  positiveIncrease          0 non-null      float64\n",
      " 23  totalTestResultsIncrease  0 non-null      float64\n",
      "dtypes: float64(20), int64(1), object(3)\n",
      "memory usage: 0.0+ bytes\n"
     ]
    }
   ],
   "source": [
    "state_test.info()"
   ]
  },
  {
   "cell_type": "code",
   "execution_count": 26,
   "metadata": {},
   "outputs": [
    {
     "name": "stderr",
     "output_type": "stream",
     "text": [
      "/home/angelo/.local/lib/python3.6/site-packages/ipykernel_launcher.py:2: SettingWithCopyWarning: \n",
      "A value is trying to be set on a copy of a slice from a DataFrame\n",
      "\n",
      "See the caveats in the documentation: https://pandas.pydata.org/pandas-docs/stable/user_guide/indexing.html#returning-a-view-versus-a-copy\n",
      "  \n"
     ]
    }
   ],
   "source": [
    "hospitals = pd.read_csv(\"https://opendata.arcgis.com/datasets/6ac5e325468c4cb9b905f1728d6fbf0f_0.csv?outSR=%7B%22latestWkid%22%3A3857%2C%22wkid%22%3A102100%7D\")\n",
    "hospitals['BEDS'][hospitals['BEDS'] < 0] = 0"
   ]
  },
  {
   "cell_type": "code",
   "execution_count": 29,
   "metadata": {},
   "outputs": [
    {
     "name": "stdout",
     "output_type": "stream",
     "text": [
      "<class 'pandas.core.frame.DataFrame'>\n",
      "Float64Index: 3145 entries, nan to nan\n",
      "Data columns (total 5 columns):\n",
      " #   Column       Non-Null Count  Dtype  \n",
      "---  ------       --------------  -----  \n",
      " 0   County       3145 non-null   object \n",
      " 1   County Code  3145 non-null   int64  \n",
      " 2   Deaths       3145 non-null   int64  \n",
      " 3   Population   3145 non-null   int64  \n",
      " 4   Crude Rate   3145 non-null   float64\n",
      "dtypes: float64(1), int64(3), object(1)\n",
      "memory usage: 147.4+ KB\n"
     ]
    }
   ],
   "source": [
    "county_base_mortality = pd.read_table(\"https://raw.githubusercontent.com/wxwx1993/PM_COVID/master/Data/county_base_mortality.txt\", sep='\\t')\n",
    "county_old_mortality = pd.read_table(\"https://raw.githubusercontent.com/wxwx1993/PM_COVID/master/Data/county_old_mortality.txt\",  sep='\\t')\n",
    "county_old_mortality.info()"
   ]
  },
  {
   "cell_type": "code",
   "execution_count": 41,
   "metadata": {},
   "outputs": [
    {
     "name": "stdout",
     "output_type": "stream",
     "text": [
      "<class 'pandas.core.frame.DataFrame'>\n",
      "Float64Index: 3145 entries, nan to nan\n",
      "Data columns (total 5 columns):\n",
      " #   Column            Non-Null Count  Dtype  \n",
      "---  ------            --------------  -----  \n",
      " 0   County            3145 non-null   object \n",
      " 1   County Code       3145 non-null   int64  \n",
      " 2   Deaths            3145 non-null   int64  \n",
      " 3   older_Population  3145 non-null   int64  \n",
      " 4   Crude Rate        3145 non-null   float64\n",
      "dtypes: float64(1), int64(3), object(1)\n",
      "memory usage: 147.4+ KB\n"
     ]
    }
   ],
   "source": [
    "county_old_mortality=county_old_mortality.rename(columns={\"Population\": \"older_Population\"})\n",
    "county_old_mortality.info()"
   ]
  },
  {
   "cell_type": "code",
   "execution_count": 40,
   "metadata": {},
   "outputs": [
    {
     "ename": "KeyError",
     "evalue": "'County Code'",
     "output_type": "error",
     "traceback": [
      "\u001b[0;31m---------------------------------------------------------------------------\u001b[0m",
      "\u001b[0;31mKeyError\u001b[0m                                  Traceback (most recent call last)",
      "\u001b[0;32m<ipython-input-40-08debbbf0ee3>\u001b[0m in \u001b[0;36m<module>\u001b[0;34m\u001b[0m\n\u001b[0;32m----> 1\u001b[0;31m \u001b[0mcounty_base_mortality\u001b[0m \u001b[0;34m=\u001b[0m \u001b[0mpd\u001b[0m\u001b[0;34m.\u001b[0m\u001b[0mmerge\u001b[0m\u001b[0;34m(\u001b[0m\u001b[0mcounty_base_mortality\u001b[0m\u001b[0;34m,\u001b[0m \u001b[0mcounty_old_mortality\u001b[0m\u001b[0;34m.\u001b[0m\u001b[0miloc\u001b[0m\u001b[0;34m[\u001b[0m\u001b[0;34m:\u001b[0m\u001b[0;34m,\u001b[0m \u001b[0;34m[\u001b[0m\u001b[0;36m2\u001b[0m\u001b[0;34m,\u001b[0m\u001b[0;36m4\u001b[0m\u001b[0;34m]\u001b[0m\u001b[0;34m]\u001b[0m\u001b[0;34m,\u001b[0m \u001b[0mhow\u001b[0m\u001b[0;34m=\u001b[0m\u001b[0;34m'left'\u001b[0m\u001b[0;34m,\u001b[0m \u001b[0mon\u001b[0m \u001b[0;34m=\u001b[0m \u001b[0;34m\"County Code\"\u001b[0m\u001b[0;34m)\u001b[0m\u001b[0;34m\u001b[0m\u001b[0m\n\u001b[0m\u001b[1;32m      2\u001b[0m \u001b[0mcounty_base_mortality\u001b[0m\u001b[0;34m[\u001b[0m\u001b[0;34m'older_pecent'\u001b[0m\u001b[0;34m]\u001b[0m \u001b[0;34m=\u001b[0m \u001b[0mcounty_base_mortality\u001b[0m\u001b[0;34m[\u001b[0m\u001b[0;34m'older_Population'\u001b[0m\u001b[0;34m]\u001b[0m\u001b[0;34m/\u001b[0m\u001b[0mcounty_base_mortality\u001b[0m\u001b[0;34m[\u001b[0m\u001b[0;34m'Population'\u001b[0m\u001b[0;34m]\u001b[0m\u001b[0;34m\u001b[0m\u001b[0m\n",
      "\u001b[0;32m~/.local/lib/python3.6/site-packages/pandas/core/reshape/merge.py\u001b[0m in \u001b[0;36mmerge\u001b[0;34m(left, right, how, on, left_on, right_on, left_index, right_index, sort, suffixes, copy, indicator, validate)\u001b[0m\n\u001b[1;32m     84\u001b[0m         \u001b[0mcopy\u001b[0m\u001b[0;34m=\u001b[0m\u001b[0mcopy\u001b[0m\u001b[0;34m,\u001b[0m\u001b[0;34m\u001b[0m\u001b[0m\n\u001b[1;32m     85\u001b[0m         \u001b[0mindicator\u001b[0m\u001b[0;34m=\u001b[0m\u001b[0mindicator\u001b[0m\u001b[0;34m,\u001b[0m\u001b[0;34m\u001b[0m\u001b[0m\n\u001b[0;32m---> 86\u001b[0;31m         \u001b[0mvalidate\u001b[0m\u001b[0;34m=\u001b[0m\u001b[0mvalidate\u001b[0m\u001b[0;34m,\u001b[0m\u001b[0;34m\u001b[0m\u001b[0m\n\u001b[0m\u001b[1;32m     87\u001b[0m     )\n\u001b[1;32m     88\u001b[0m     \u001b[0;32mreturn\u001b[0m \u001b[0mop\u001b[0m\u001b[0;34m.\u001b[0m\u001b[0mget_result\u001b[0m\u001b[0;34m(\u001b[0m\u001b[0;34m)\u001b[0m\u001b[0;34m\u001b[0m\u001b[0m\n",
      "\u001b[0;32m~/.local/lib/python3.6/site-packages/pandas/core/reshape/merge.py\u001b[0m in \u001b[0;36m__init__\u001b[0;34m(self, left, right, how, on, left_on, right_on, axis, left_index, right_index, sort, suffixes, copy, indicator, validate)\u001b[0m\n\u001b[1;32m    625\u001b[0m             \u001b[0mself\u001b[0m\u001b[0;34m.\u001b[0m\u001b[0mright_join_keys\u001b[0m\u001b[0;34m,\u001b[0m\u001b[0;34m\u001b[0m\u001b[0m\n\u001b[1;32m    626\u001b[0m             \u001b[0mself\u001b[0m\u001b[0;34m.\u001b[0m\u001b[0mjoin_names\u001b[0m\u001b[0;34m,\u001b[0m\u001b[0;34m\u001b[0m\u001b[0m\n\u001b[0;32m--> 627\u001b[0;31m         ) = self._get_merge_keys()\n\u001b[0m\u001b[1;32m    628\u001b[0m \u001b[0;34m\u001b[0m\u001b[0m\n\u001b[1;32m    629\u001b[0m         \u001b[0;31m# validate the merge keys dtypes. We may need to coerce\u001b[0m\u001b[0;34m\u001b[0m\u001b[0;34m\u001b[0m\u001b[0m\n",
      "\u001b[0;32m~/.local/lib/python3.6/site-packages/pandas/core/reshape/merge.py\u001b[0m in \u001b[0;36m_get_merge_keys\u001b[0;34m(self)\u001b[0m\n\u001b[1;32m    981\u001b[0m                     \u001b[0;32mif\u001b[0m \u001b[0;32mnot\u001b[0m \u001b[0mis_rkey\u001b[0m\u001b[0;34m(\u001b[0m\u001b[0mrk\u001b[0m\u001b[0;34m)\u001b[0m\u001b[0;34m:\u001b[0m\u001b[0;34m\u001b[0m\u001b[0m\n\u001b[1;32m    982\u001b[0m                         \u001b[0;32mif\u001b[0m \u001b[0mrk\u001b[0m \u001b[0;32mis\u001b[0m \u001b[0;32mnot\u001b[0m \u001b[0;32mNone\u001b[0m\u001b[0;34m:\u001b[0m\u001b[0;34m\u001b[0m\u001b[0m\n\u001b[0;32m--> 983\u001b[0;31m                             \u001b[0mright_keys\u001b[0m\u001b[0;34m.\u001b[0m\u001b[0mappend\u001b[0m\u001b[0;34m(\u001b[0m\u001b[0mright\u001b[0m\u001b[0;34m.\u001b[0m\u001b[0m_get_label_or_level_values\u001b[0m\u001b[0;34m(\u001b[0m\u001b[0mrk\u001b[0m\u001b[0;34m)\u001b[0m\u001b[0;34m)\u001b[0m\u001b[0;34m\u001b[0m\u001b[0m\n\u001b[0m\u001b[1;32m    984\u001b[0m                         \u001b[0;32melse\u001b[0m\u001b[0;34m:\u001b[0m\u001b[0;34m\u001b[0m\u001b[0m\n\u001b[1;32m    985\u001b[0m                             \u001b[0;31m# work-around for merge_asof(right_index=True)\u001b[0m\u001b[0;34m\u001b[0m\u001b[0;34m\u001b[0m\u001b[0m\n",
      "\u001b[0;32m~/.local/lib/python3.6/site-packages/pandas/core/generic.py\u001b[0m in \u001b[0;36m_get_label_or_level_values\u001b[0;34m(self, key, axis)\u001b[0m\n\u001b[1;32m   1690\u001b[0m             \u001b[0mvalues\u001b[0m \u001b[0;34m=\u001b[0m \u001b[0mself\u001b[0m\u001b[0;34m.\u001b[0m\u001b[0maxes\u001b[0m\u001b[0;34m[\u001b[0m\u001b[0maxis\u001b[0m\u001b[0;34m]\u001b[0m\u001b[0;34m.\u001b[0m\u001b[0mget_level_values\u001b[0m\u001b[0;34m(\u001b[0m\u001b[0mkey\u001b[0m\u001b[0;34m)\u001b[0m\u001b[0;34m.\u001b[0m\u001b[0m_values\u001b[0m\u001b[0;34m\u001b[0m\u001b[0m\n\u001b[1;32m   1691\u001b[0m         \u001b[0;32melse\u001b[0m\u001b[0;34m:\u001b[0m\u001b[0;34m\u001b[0m\u001b[0m\n\u001b[0;32m-> 1692\u001b[0;31m             \u001b[0;32mraise\u001b[0m \u001b[0mKeyError\u001b[0m\u001b[0;34m(\u001b[0m\u001b[0mkey\u001b[0m\u001b[0;34m)\u001b[0m\u001b[0;34m\u001b[0m\u001b[0m\n\u001b[0m\u001b[1;32m   1693\u001b[0m \u001b[0;34m\u001b[0m\u001b[0m\n\u001b[1;32m   1694\u001b[0m         \u001b[0;31m# Check for duplicates\u001b[0m\u001b[0;34m\u001b[0m\u001b[0;34m\u001b[0m\u001b[0m\n",
      "\u001b[0;31mKeyError\u001b[0m: 'County Code'"
     ]
    }
   ],
   "source": [
    "county_base_mortality = pd.merge(county_base_mortality, county_old_mortality.iloc[:, [2,4]], how='left', on = \"County Code\")\n",
    "county_base_mortality['older_pecent'] = county_base_mortality['older_Population']/county_base_mortality['Population']"
   ]
  },
  {
   "cell_type": "code",
   "execution_count": null,
   "metadata": {},
   "outputs": [],
   "source": [
    "# merging data\n",
    "state_test = merge(state_test,statecode,by.x = \"state\" ,by.y = \"Code\" )"
   ]
  },
  {
   "cell_type": "code",
   "execution_count": null,
   "metadata": {},
   "outputs": [],
   "source": []
  },
  {
   "cell_type": "code",
   "execution_count": null,
   "metadata": {},
   "outputs": [],
   "source": [
    "# pm average over 17 years\n",
    "county_temp_aggregated = county_temp %>% \n",
    "  group_by(fips) %>% \n",
    "  summarise(mean_winter_temp= mean(winter_tmmx),\n",
    "            mean_summer_temp= mean(summer_tmmx),\n",
    "            mean_winter_rm= mean(winter_rmax),\n",
    "            mean_summer_rm= mean(summer_rmax))"
   ]
  },
  {
   "cell_type": "code",
   "execution_count": null,
   "metadata": {},
   "outputs": [],
   "source": [
    "county_pm_aggregated = merge(county_pm_aggregated,county_temp_aggregated,by=\"fips\",all.x = T)\n"
   ]
  },
  {
   "cell_type": "code",
   "execution_count": null,
   "metadata": {},
   "outputs": [],
   "source": [
    "county_hospitals_aggregated = hospitals %>%\n",
    "  group_by(COUNTYFIPS) %>%\n",
    "  summarise(beds = sum(BEDS))\n"
   ]
  },
  {
   "cell_type": "code",
   "execution_count": null,
   "metadata": {},
   "outputs": [],
   "source": [
    "county_census_aggregated2 = county_census[county_census['year']==2016]\n",
    "county_census_aggregated2['q_popdensity'] = 1\n",
    "quantile_popdensity = quantile(county_census_aggregated2['popdensity,c(0.25,0.5,0.75))\n",
    "county_census_aggregated2$q_popdensity[county_census_aggregated2$popdensity<=quantile_popdensity[1]] = 1\n",
    "county_census_aggregated2$q_popdensity[county_census_aggregated2$popdensity>quantile_popdensity[1] &\n",
    "                                         county_census_aggregated2$popdensity<=quantile_popdensity[2]] = 2\n",
    "county_census_aggregated2$q_popdensity[county_census_aggregated2$popdensity>quantile_popdensity[2] &\n",
    "                                         county_census_aggregated2$popdensity<=quantile_popdensity[3]] = 3\n",
    "county_census_aggregated2$q_popdensity[county_census_aggregated2$popdensity>quantile_popdensity[3]] = 4\n",
    "\n",
    "county_brfss_aggregated = subset(county_brfss, year==2012)\n",
    "\n",
    "county_census_aggregated2 = merge(county_census_aggregated2,county_brfss_aggregated,\n",
    "                                  by=\"fips\",all.x=T)\n",
    "\n",
    "aggregate_pm = merge(county_pm_aggregated,covid_us,by.x=\"fips\",by.y = \"FIPS\")\n",
    "\n",
    "aggregate_pm_census = merge(aggregate_pm,county_census_aggregated2,by.x=\"fips\",by.y = \"fips\")\n",
    "\n",
    "aggregate_pm_census_cdc = merge(aggregate_pm_census,county_base_mortality[,c(1,4:5,8:9)],by.x = \"fips\",by.y = \"County.Code\",all.x = T)\n",
    "\n",
    "aggregate_pm_census_cdc = aggregate_pm_census_cdc[is.na(aggregate_pm_census_cdc$fips) ==F,]\n",
    "\n",
    "aggregate_pm_census_cdc_test = merge(aggregate_pm_census_cdc,state_test,by.x=\"Province_State\",by.y = \"State\")\n",
    "aggregate_pm_census_cdc_test = aggregate_pm_census_cdc_test %>%\n",
    "  group_by(Province_State) %>%\n",
    "  mutate(population_frac_county = population/sum(population),\n",
    "         totalTestResults_county = population_frac_county*totalTestResults)\n",
    "\n",
    "\n",
    "aggregate_pm_census_cdc_test_beds = merge(aggregate_pm_census_cdc_test,county_hospitals_aggregated,by.x = \"fips\",by.y = \"COUNTYFIPS\",all.x = T)"
   ]
  }
 ],
 "metadata": {
  "kernelspec": {
   "display_name": "Python 3",
   "language": "python",
   "name": "python3"
  },
  "language_info": {
   "codemirror_mode": {
    "name": "ipython",
    "version": 3
   },
   "file_extension": ".py",
   "mimetype": "text/x-python",
   "name": "python",
   "nbconvert_exporter": "python",
   "pygments_lexer": "ipython3",
   "version": "3.7.6"
  }
 },
 "nbformat": 4,
 "nbformat_minor": 4
}
